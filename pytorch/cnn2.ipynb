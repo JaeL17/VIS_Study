{
 "cells": [
  {
   "cell_type": "code",
   "execution_count": 2,
   "id": "ab04dca4-e389-4418-9f0f-1e644a8dca1c",
   "metadata": {},
   "outputs": [],
   "source": [
    "import torch\n",
    "import torch.nn as nn\n",
    "from torchvision import datasets\n",
    "from torchvision.transforms import ToTensor\n",
    "from torch.utils.data import DataLoader"
   ]
  },
  {
   "cell_type": "code",
   "execution_count": 6,
   "id": "11364502-c806-471c-8ead-913b96902b8b",
   "metadata": {},
   "outputs": [],
   "source": [
    "trainset = datasets.FashionMNIST(root = 'data', train=True, transform = ToTensor(), download = True)\n",
    "testset = datasets.FashionMNIST(root = 'data', train=False, transform = ToTensor(), download = True)\n",
    "\n",
    "batch_size = 8 \n",
    "trainloader = DataLoader(dataset= trainset, batch_size=batch_size, shuffle=True)\n",
    "testloader = DataLoader(dataset= testset, batch_size=batch_size, shuffle=False)"
   ]
  },
  {
   "cell_type": "code",
   "execution_count": 10,
   "id": "b200a428-71c1-4396-9cf4-28166acd35bc",
   "metadata": {},
   "outputs": [
    {
     "data": {
      "text/plain": [
       "{'T-shirt/top': 0,\n",
       " 'Trouser': 1,\n",
       " 'Pullover': 2,\n",
       " 'Dress': 3,\n",
       " 'Coat': 4,\n",
       " 'Sandal': 5,\n",
       " 'Shirt': 6,\n",
       " 'Sneaker': 7,\n",
       " 'Bag': 8,\n",
       " 'Ankle boot': 9}"
      ]
     },
     "execution_count": 10,
     "metadata": {},
     "output_type": "execute_result"
    }
   ],
   "source": [
    "trainset.class_to_idx"
   ]
  },
  {
   "cell_type": "code",
   "execution_count": 7,
   "id": "f3c8b7f2-8381-4d86-bf9c-da6e11f69511",
   "metadata": {},
   "outputs": [],
   "source": [
    "img, lab = next(iter(trainloader))"
   ]
  },
  {
   "cell_type": "code",
   "execution_count": 8,
   "id": "9e78b271-1438-4e1f-b4cc-f104835cd186",
   "metadata": {},
   "outputs": [
    {
     "data": {
      "text/plain": [
       "torch.Size([8, 1, 28, 28])"
      ]
     },
     "execution_count": 8,
     "metadata": {},
     "output_type": "execute_result"
    }
   ],
   "source": [
    "img.shape"
   ]
  },
  {
   "cell_type": "code",
   "execution_count": 35,
   "id": "b26b7908-2f30-4062-85b6-d50d618e0286",
   "metadata": {},
   "outputs": [],
   "source": [
    "class cnn_classifier(nn.Module):\n",
    "    \"\"\"\n",
    "    custom cnn classifier\n",
    "    \"\"\"\n",
    "    def __init__(self):\n",
    "        super().__init__()\n",
    "\n",
    "        def conv_block(in_channels, out_channels):\n",
    "            return nn.Sequential(\n",
    "                nn.Conv2d(in_channels=in_channels, out_channels=out_channels, kernel_size=3, padding=1),\n",
    "                nn.BatchNorm2d(out_channels),\n",
    "                nn.ReLU(),\n",
    "                nn.Conv2d(in_channels=out_channels, out_channels=out_channels, kernel_size = 3, padding=1),\\\n",
    "                nn.BatchNorm2d(out_channels),\n",
    "                nn.ReLU()\n",
    "            )\n",
    "        self.conv = nn.Sequential(\n",
    "            conv_block(1, 32), # [B, 32, 28, 28]\n",
    "            nn.Dropout2d(p = 0.3), \n",
    "            conv_block(32, 64), # [B, 64, 28, 28]\n",
    "            nn.Dropout2d(p= 0.3),\n",
    "            conv_block(64, 128), # [B, 128, 28, 28]\n",
    "            nn.Dropout2d(p= 0.3),\n",
    "            nn.MaxPool2d(kernel_size=2), # [B, 128, 14, 14]\n",
    "            nn.AdaptiveAvgPool2d((1,1))  # [B, 128, 1, 1]\n",
    "        )\n",
    "        self.linear = nn.Linear(128, 10)\n",
    "\n",
    "    def forward(self, x):\n",
    "        x = self.conv(x)  # [B, 64, 1, 1]\n",
    "        x = x.view((x.shape[0], -1)) # [B, 64]\n",
    "        x = self.linear(x)\n",
    "        return x"
   ]
  },
  {
   "cell_type": "code",
   "execution_count": 36,
   "id": "77237fb1-6cac-4108-88d9-5dbec3ede855",
   "metadata": {},
   "outputs": [],
   "source": [
    "from tqdm import tqdm"
   ]
  },
  {
   "cell_type": "code",
   "execution_count": 37,
   "id": "ede4ac96-b4b6-4ce2-ac0e-eaf8492ca808",
   "metadata": {},
   "outputs": [],
   "source": [
    "cnn_model = cnn_classifier()\n",
    "criterion = nn.CrossEntropyLoss()\n",
    "optimizer = torch.optim.SGD(cnn_model.parameters(), lr = 1e-3)"
   ]
  },
  {
   "cell_type": "code",
   "execution_count": 38,
   "id": "22f500ab-519f-4dd4-9b71-33a042dbeb1b",
   "metadata": {},
   "outputs": [],
   "source": [
    "def train(trainloader, model, loss_fn, optimizer):\n",
    "    model.train()\n",
    "    train_loss = 0\n",
    "    for img, label in tqdm(trainloader):\n",
    "        # forward pass to compute output tensor (prediction)\n",
    "        logits = model(img)\n",
    "\n",
    "        # compute loss\n",
    "        loss = loss_fn(logits, label)\n",
    "\n",
    "        optimizer.zero_grad()\n",
    "\n",
    "        # backward propagation\n",
    "        loss.backward()\n",
    "\n",
    "        optimizer.step()\n",
    "        \n",
    "        train_loss += loss.item()\n",
    "    print(f\"train loss: {train_loss / len(trainloader)}\")\n",
    "\n",
    "def evaluation(testloader, model, loss_fn):\n",
    "    model.eval()\n",
    "    test_loss = 0\n",
    "    correct, total = 0, 0\n",
    "    with torch.no_grad():\n",
    "        for img, label in testloader:\n",
    "            logits = model(img)\n",
    "\n",
    "            loss = loss_fn(logits, label)\n",
    "            \n",
    "            pred = logits.argmax(dim=1)\n",
    "            \n",
    "            correct += (pred == label).sum().item()\n",
    "            total += len(pred)\n",
    "\n",
    "            test_loss += loss.item()\n",
    "    print(f\"test loss: {test_loss/ len(testloader)}\")\n",
    "    print(f\"Accuracy: {correct / total}%\")\n",
    "\n",
    "            \n",
    "            "
   ]
  },
  {
   "cell_type": "code",
   "execution_count": 39,
   "id": "a6fcc217-7898-45d8-9cf9-a8aaf83a8999",
   "metadata": {},
   "outputs": [
    {
     "name": "stdout",
     "output_type": "stream",
     "text": [
      "epoch: 1\n"
     ]
    },
    {
     "name": "stderr",
     "output_type": "stream",
     "text": [
      "100%|██████████| 7500/7500 [05:21<00:00, 23.31it/s]\n"
     ]
    },
    {
     "name": "stdout",
     "output_type": "stream",
     "text": [
      "train loss: 1.6292589291334152\n",
      "test loss: 1.173403601169586\n",
      "Accuracy: 0.6202%\n",
      "epoch: 2\n"
     ]
    },
    {
     "name": "stderr",
     "output_type": "stream",
     "text": [
      "100%|██████████| 7500/7500 [05:22<00:00, 23.24it/s]\n"
     ]
    },
    {
     "name": "stdout",
     "output_type": "stream",
     "text": [
      "train loss: 1.252363410282135\n",
      "test loss: 1.0014738932371139\n",
      "Accuracy: 0.6774%\n",
      "epoch: 3\n"
     ]
    },
    {
     "name": "stderr",
     "output_type": "stream",
     "text": [
      "100%|██████████| 7500/7500 [05:22<00:00, 23.24it/s]\n"
     ]
    },
    {
     "name": "stdout",
     "output_type": "stream",
     "text": [
      "train loss: 1.0880736953616141\n",
      "test loss: 0.8819733852624894\n",
      "Accuracy: 0.6963%\n",
      "epoch: 4\n"
     ]
    },
    {
     "name": "stderr",
     "output_type": "stream",
     "text": [
      "100%|██████████| 7500/7500 [05:21<00:00, 23.30it/s]\n"
     ]
    },
    {
     "name": "stdout",
     "output_type": "stream",
     "text": [
      "train loss: 0.9673961407740911\n",
      "test loss: 0.8407222236156464\n",
      "Accuracy: 0.7032%\n",
      "epoch: 5\n"
     ]
    },
    {
     "name": "stderr",
     "output_type": "stream",
     "text": [
      "100%|██████████| 7500/7500 [05:22<00:00, 23.26it/s]\n"
     ]
    },
    {
     "name": "stdout",
     "output_type": "stream",
     "text": [
      "train loss: 0.8832026705900828\n",
      "test loss: 0.7404620177924633\n",
      "Accuracy: 0.7352%\n"
     ]
    }
   ],
   "source": [
    "for t in range(5):\n",
    "    print(f\"epoch: {t +1}\")\n",
    "    train(trainloader, cnn_model, criterion, optimizer)\n",
    "    evaluation(testloader, cnn_model, criterion)"
   ]
  },
  {
   "cell_type": "code",
   "execution_count": 12,
   "id": "072cc92a-98ae-426a-ac12-326dfaf43316",
   "metadata": {},
   "outputs": [
    {
     "data": {
      "text/plain": [
       "tensor([[0.6552]])"
      ]
     },
     "execution_count": 12,
     "metadata": {},
     "output_type": "execute_result"
    }
   ],
   "source": [
    "\n",
    "rand.reshape()\n",
    "rand.view()\n"
   ]
  },
  {
   "cell_type": "code",
   "execution_count": null,
   "id": "05b2f278-b280-4483-af56-e4b79f148091",
   "metadata": {},
   "outputs": [],
   "source": []
  }
 ],
 "metadata": {
  "kernelspec": {
   "display_name": "Python 3 (ipykernel)",
   "language": "python",
   "name": "python3"
  },
  "language_info": {
   "codemirror_mode": {
    "name": "ipython",
    "version": 3
   },
   "file_extension": ".py",
   "mimetype": "text/x-python",
   "name": "python",
   "nbconvert_exporter": "python",
   "pygments_lexer": "ipython3",
   "version": "3.13.5"
  }
 },
 "nbformat": 4,
 "nbformat_minor": 5
}
